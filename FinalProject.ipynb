{
 "cells": [
  {
   "cell_type": "code",
   "execution_count": 15,
   "id": "5fbebcf8",
   "metadata": {},
   "outputs": [],
   "source": [
    "import pandas as pd\n",
    "import numpy as np\n",
    "import ta"
   ]
  },
  {
   "cell_type": "code",
   "execution_count": 16,
   "id": "598adf8c",
   "metadata": {},
   "outputs": [
    {
     "data": {
      "text/html": [
       "<div>\n",
       "<style scoped>\n",
       "    .dataframe tbody tr th:only-of-type {\n",
       "        vertical-align: middle;\n",
       "    }\n",
       "\n",
       "    .dataframe tbody tr th {\n",
       "        vertical-align: top;\n",
       "    }\n",
       "\n",
       "    .dataframe thead th {\n",
       "        text-align: right;\n",
       "    }\n",
       "</style>\n",
       "<table border=\"1\" class=\"dataframe\">\n",
       "  <thead>\n",
       "    <tr style=\"text-align: right;\">\n",
       "      <th></th>\n",
       "      <th>Time</th>\n",
       "      <th>Open</th>\n",
       "      <th>High</th>\n",
       "      <th>Low</th>\n",
       "      <th>Close</th>\n",
       "      <th>Volume</th>\n",
       "    </tr>\n",
       "  </thead>\n",
       "  <tbody>\n",
       "    <tr>\n",
       "      <th>0</th>\n",
       "      <td>2025-04-09 16:30</td>\n",
       "      <td>1.10273</td>\n",
       "      <td>1.10412</td>\n",
       "      <td>1.10132</td>\n",
       "      <td>1.10200</td>\n",
       "      <td>4807</td>\n",
       "    </tr>\n",
       "    <tr>\n",
       "      <th>1</th>\n",
       "      <td>2025-04-09 16:00</td>\n",
       "      <td>1.10386</td>\n",
       "      <td>1.10423</td>\n",
       "      <td>1.10245</td>\n",
       "      <td>1.10274</td>\n",
       "      <td>5592</td>\n",
       "    </tr>\n",
       "    <tr>\n",
       "      <th>2</th>\n",
       "      <td>2025-04-09 15:30</td>\n",
       "      <td>1.10620</td>\n",
       "      <td>1.10691</td>\n",
       "      <td>1.10369</td>\n",
       "      <td>1.10381</td>\n",
       "      <td>7612</td>\n",
       "    </tr>\n",
       "    <tr>\n",
       "      <th>3</th>\n",
       "      <td>2025-04-09 15:00</td>\n",
       "      <td>1.10404</td>\n",
       "      <td>1.10631</td>\n",
       "      <td>1.10365</td>\n",
       "      <td>1.10619</td>\n",
       "      <td>8314</td>\n",
       "    </tr>\n",
       "    <tr>\n",
       "      <th>4</th>\n",
       "      <td>2025-04-09 14:30</td>\n",
       "      <td>1.10431</td>\n",
       "      <td>1.10512</td>\n",
       "      <td>1.10258</td>\n",
       "      <td>1.10404</td>\n",
       "      <td>9421</td>\n",
       "    </tr>\n",
       "  </tbody>\n",
       "</table>\n",
       "</div>"
      ],
      "text/plain": [
       "               Time     Open     High      Low   Close   Volume\n",
       "0  2025-04-09 16:30  1.10273  1.10412  1.10132  1.10200    4807\n",
       "1  2025-04-09 16:00  1.10386  1.10423  1.10245  1.10274    5592\n",
       "2  2025-04-09 15:30  1.10620  1.10691  1.10369  1.10381    7612\n",
       "3  2025-04-09 15:00  1.10404  1.10631  1.10365  1.10619    8314\n",
       "4  2025-04-09 14:30  1.10431  1.10512  1.10258  1.10404    9421"
      ]
     },
     "execution_count": 16,
     "metadata": {},
     "output_type": "execute_result"
    }
   ],
   "source": [
    "forex_data = pd.read_csv('EURUSD_M30-1.csv')\n",
    "forex_data.head(5)"
   ]
  },
  {
   "cell_type": "code",
   "execution_count": 17,
   "id": "ec57842d",
   "metadata": {},
   "outputs": [
    {
     "data": {
      "text/plain": [
       "Time      datetime64[ns]\n",
       "Open             float64\n",
       "High             float64\n",
       "Low              float64\n",
       "Close            float64\n",
       "Volume             int64\n",
       "dtype: object"
      ]
     },
     "execution_count": 17,
     "metadata": {},
     "output_type": "execute_result"
    }
   ],
   "source": [
    "forex_data['Time'] = pd.to_datetime(forex_data['Time'], format='%Y-%m-%d %H:%M')\n",
    "forex_data.dtypes"
   ]
  },
  {
   "cell_type": "code",
   "execution_count": 18,
   "id": "b55b650f",
   "metadata": {},
   "outputs": [
    {
     "data": {
      "text/html": [
       "<div>\n",
       "<style scoped>\n",
       "    .dataframe tbody tr th:only-of-type {\n",
       "        vertical-align: middle;\n",
       "    }\n",
       "\n",
       "    .dataframe tbody tr th {\n",
       "        vertical-align: top;\n",
       "    }\n",
       "\n",
       "    .dataframe thead th {\n",
       "        text-align: right;\n",
       "    }\n",
       "</style>\n",
       "<table border=\"1\" class=\"dataframe\">\n",
       "  <thead>\n",
       "    <tr style=\"text-align: right;\">\n",
       "      <th></th>\n",
       "      <th>Time</th>\n",
       "      <th>Open</th>\n",
       "      <th>High</th>\n",
       "      <th>Low</th>\n",
       "      <th>Close</th>\n",
       "      <th>Volume</th>\n",
       "    </tr>\n",
       "  </thead>\n",
       "  <tbody>\n",
       "    <tr>\n",
       "      <th>0</th>\n",
       "      <td>2025-04-09 16:30:00</td>\n",
       "      <td>1.10273</td>\n",
       "      <td>1.10412</td>\n",
       "      <td>1.10132</td>\n",
       "      <td>1.10200</td>\n",
       "      <td>4807</td>\n",
       "    </tr>\n",
       "    <tr>\n",
       "      <th>1</th>\n",
       "      <td>2025-04-09 16:00:00</td>\n",
       "      <td>1.10386</td>\n",
       "      <td>1.10423</td>\n",
       "      <td>1.10245</td>\n",
       "      <td>1.10274</td>\n",
       "      <td>5592</td>\n",
       "    </tr>\n",
       "    <tr>\n",
       "      <th>2</th>\n",
       "      <td>2025-04-09 15:30:00</td>\n",
       "      <td>1.10620</td>\n",
       "      <td>1.10691</td>\n",
       "      <td>1.10369</td>\n",
       "      <td>1.10381</td>\n",
       "      <td>7612</td>\n",
       "    </tr>\n",
       "    <tr>\n",
       "      <th>3</th>\n",
       "      <td>2025-04-09 15:00:00</td>\n",
       "      <td>1.10404</td>\n",
       "      <td>1.10631</td>\n",
       "      <td>1.10365</td>\n",
       "      <td>1.10619</td>\n",
       "      <td>8314</td>\n",
       "    </tr>\n",
       "    <tr>\n",
       "      <th>4</th>\n",
       "      <td>2025-04-09 14:30:00</td>\n",
       "      <td>1.10431</td>\n",
       "      <td>1.10512</td>\n",
       "      <td>1.10258</td>\n",
       "      <td>1.10404</td>\n",
       "      <td>9421</td>\n",
       "    </tr>\n",
       "    <tr>\n",
       "      <th>...</th>\n",
       "      <td>...</td>\n",
       "      <td>...</td>\n",
       "      <td>...</td>\n",
       "      <td>...</td>\n",
       "      <td>...</td>\n",
       "      <td>...</td>\n",
       "    </tr>\n",
       "    <tr>\n",
       "      <th>99995</th>\n",
       "      <td>2017-03-31 16:00:00</td>\n",
       "      <td>1.06970</td>\n",
       "      <td>1.06976</td>\n",
       "      <td>1.06906</td>\n",
       "      <td>1.06921</td>\n",
       "      <td>3748</td>\n",
       "    </tr>\n",
       "    <tr>\n",
       "      <th>99996</th>\n",
       "      <td>2017-03-31 15:30:00</td>\n",
       "      <td>1.06939</td>\n",
       "      <td>1.06989</td>\n",
       "      <td>1.06892</td>\n",
       "      <td>1.06971</td>\n",
       "      <td>5132</td>\n",
       "    </tr>\n",
       "    <tr>\n",
       "      <th>99997</th>\n",
       "      <td>2017-03-31 15:00:00</td>\n",
       "      <td>1.06940</td>\n",
       "      <td>1.07018</td>\n",
       "      <td>1.06889</td>\n",
       "      <td>1.06925</td>\n",
       "      <td>8520</td>\n",
       "    </tr>\n",
       "    <tr>\n",
       "      <th>99998</th>\n",
       "      <td>2017-03-31 14:30:00</td>\n",
       "      <td>1.06755</td>\n",
       "      <td>1.06966</td>\n",
       "      <td>1.06720</td>\n",
       "      <td>1.06941</td>\n",
       "      <td>7520</td>\n",
       "    </tr>\n",
       "    <tr>\n",
       "      <th>99999</th>\n",
       "      <td>2017-03-31 14:00:00</td>\n",
       "      <td>1.06838</td>\n",
       "      <td>1.06869</td>\n",
       "      <td>1.06716</td>\n",
       "      <td>1.06755</td>\n",
       "      <td>6994</td>\n",
       "    </tr>\n",
       "  </tbody>\n",
       "</table>\n",
       "<p>100000 rows × 6 columns</p>\n",
       "</div>"
      ],
      "text/plain": [
       "                     Time     Open     High      Low    Close  Volume\n",
       "0     2025-04-09 16:30:00  1.10273  1.10412  1.10132  1.10200    4807\n",
       "1     2025-04-09 16:00:00  1.10386  1.10423  1.10245  1.10274    5592\n",
       "2     2025-04-09 15:30:00  1.10620  1.10691  1.10369  1.10381    7612\n",
       "3     2025-04-09 15:00:00  1.10404  1.10631  1.10365  1.10619    8314\n",
       "4     2025-04-09 14:30:00  1.10431  1.10512  1.10258  1.10404    9421\n",
       "...                   ...      ...      ...      ...      ...     ...\n",
       "99995 2017-03-31 16:00:00  1.06970  1.06976  1.06906  1.06921    3748\n",
       "99996 2017-03-31 15:30:00  1.06939  1.06989  1.06892  1.06971    5132\n",
       "99997 2017-03-31 15:00:00  1.06940  1.07018  1.06889  1.06925    8520\n",
       "99998 2017-03-31 14:30:00  1.06755  1.06966  1.06720  1.06941    7520\n",
       "99999 2017-03-31 14:00:00  1.06838  1.06869  1.06716  1.06755    6994\n",
       "\n",
       "[100000 rows x 6 columns]"
      ]
     },
     "execution_count": 18,
     "metadata": {},
     "output_type": "execute_result"
    }
   ],
   "source": [
    "forex_data = forex_data.sort_values(by ='Time', ascending=False)\n",
    "forex_data.columns = forex_data.columns.str.strip().str.capitalize()\n",
    "forex_data"
   ]
  },
  {
   "cell_type": "code",
   "execution_count": null,
   "id": "2584eb81",
   "metadata": {},
   "outputs": [
    {
     "ename": "KeyError",
     "evalue": "'rsi_14'",
     "output_type": "error",
     "traceback": [
      "\u001b[0;31m---------------------------------------------------------------------------\u001b[0m",
      "\u001b[0;31mKeyError\u001b[0m                                  Traceback (most recent call last)",
      "File \u001b[0;32m~/Library/Python/3.9/lib/python/site-packages/pandas/core/indexes/base.py:3805\u001b[0m, in \u001b[0;36mIndex.get_loc\u001b[0;34m(self, key)\u001b[0m\n\u001b[1;32m   3804\u001b[0m \u001b[38;5;28;01mtry\u001b[39;00m:\n\u001b[0;32m-> 3805\u001b[0m     \u001b[38;5;28;01mreturn\u001b[39;00m \u001b[38;5;28;43mself\u001b[39;49m\u001b[38;5;241;43m.\u001b[39;49m\u001b[43m_engine\u001b[49m\u001b[38;5;241;43m.\u001b[39;49m\u001b[43mget_loc\u001b[49m\u001b[43m(\u001b[49m\u001b[43mcasted_key\u001b[49m\u001b[43m)\u001b[49m\n\u001b[1;32m   3806\u001b[0m \u001b[38;5;28;01mexcept\u001b[39;00m \u001b[38;5;167;01mKeyError\u001b[39;00m \u001b[38;5;28;01mas\u001b[39;00m err:\n",
      "File \u001b[0;32mindex.pyx:167\u001b[0m, in \u001b[0;36mpandas._libs.index.IndexEngine.get_loc\u001b[0;34m()\u001b[0m\n",
      "File \u001b[0;32mindex.pyx:196\u001b[0m, in \u001b[0;36mpandas._libs.index.IndexEngine.get_loc\u001b[0;34m()\u001b[0m\n",
      "File \u001b[0;32mpandas/_libs/hashtable_class_helper.pxi:7081\u001b[0m, in \u001b[0;36mpandas._libs.hashtable.PyObjectHashTable.get_item\u001b[0;34m()\u001b[0m\n",
      "File \u001b[0;32mpandas/_libs/hashtable_class_helper.pxi:7089\u001b[0m, in \u001b[0;36mpandas._libs.hashtable.PyObjectHashTable.get_item\u001b[0;34m()\u001b[0m\n",
      "\u001b[0;31mKeyError\u001b[0m: 'rsi_14'",
      "\nThe above exception was the direct cause of the following exception:\n",
      "\u001b[0;31mKeyError\u001b[0m                                  Traceback (most recent call last)",
      "Cell \u001b[0;32mIn[19], line 7\u001b[0m\n\u001b[1;32m      5\u001b[0m forex_data[\u001b[38;5;124m'\u001b[39m\u001b[38;5;124mbuy_signal\u001b[39m\u001b[38;5;124m'\u001b[39m] \u001b[38;5;241m=\u001b[39m np\u001b[38;5;241m.\u001b[39mrandom\u001b[38;5;241m.\u001b[39mchoice([\u001b[38;5;241m0\u001b[39m, \u001b[38;5;241m1\u001b[39m], size\u001b[38;5;241m=\u001b[39m\u001b[38;5;28mlen\u001b[39m(forex_data), p\u001b[38;5;241m=\u001b[39m[\u001b[38;5;241m0.9\u001b[39m, \u001b[38;5;241m0.1\u001b[39m]) \n\u001b[1;32m      6\u001b[0m forex_data[\u001b[38;5;124m'\u001b[39m\u001b[38;5;124msell_signal\u001b[39m\u001b[38;5;124m'\u001b[39m] \u001b[38;5;241m=\u001b[39m np\u001b[38;5;241m.\u001b[39mrandom\u001b[38;5;241m.\u001b[39mchoice([\u001b[38;5;241m0\u001b[39m, \u001b[38;5;241m1\u001b[39m], size\u001b[38;5;241m=\u001b[39m\u001b[38;5;28mlen\u001b[39m(forex_data), p\u001b[38;5;241m=\u001b[39m[\u001b[38;5;241m0.9\u001b[39m, \u001b[38;5;241m0.1\u001b[39m])\n\u001b[0;32m----> 7\u001b[0m forex_data[\u001b[38;5;124m'\u001b[39m\u001b[38;5;124mrsi_ema_buy_signal\u001b[39m\u001b[38;5;124m'\u001b[39m] \u001b[38;5;241m=\u001b[39m (\u001b[43mforex_data\u001b[49m\u001b[43m[\u001b[49m\u001b[38;5;124;43m'\u001b[39;49m\u001b[38;5;124;43mrsi_14\u001b[39;49m\u001b[38;5;124;43m'\u001b[39;49m\u001b[43m]\u001b[49m \u001b[38;5;241m>\u001b[39m \u001b[38;5;241m50\u001b[39m) \u001b[38;5;241m&\u001b[39m (forex_data[\u001b[38;5;124m'\u001b[39m\u001b[38;5;124mclose\u001b[39m\u001b[38;5;124m'\u001b[39m] \u001b[38;5;241m>\u001b[39m forex_data[\u001b[38;5;124m'\u001b[39m\u001b[38;5;124mema_20\u001b[39m\u001b[38;5;124m'\u001b[39m])\n\u001b[1;32m      8\u001b[0m forex_data[\u001b[38;5;124m'\u001b[39m\u001b[38;5;124mrsi_ema_sell_signal\u001b[39m\u001b[38;5;124m'\u001b[39m] \u001b[38;5;241m=\u001b[39m (forex_data[\u001b[38;5;124m'\u001b[39m\u001b[38;5;124mrsi_14\u001b[39m\u001b[38;5;124m'\u001b[39m] \u001b[38;5;241m<\u001b[39m \u001b[38;5;241m50\u001b[39m) \u001b[38;5;241m&\u001b[39m (forex_data[\u001b[38;5;124m'\u001b[39m\u001b[38;5;124mclose\u001b[39m\u001b[38;5;124m'\u001b[39m] \u001b[38;5;241m<\u001b[39m forex_data[\u001b[38;5;124m'\u001b[39m\u001b[38;5;124mema_20\u001b[39m\u001b[38;5;124m'\u001b[39m])\n\u001b[1;32m     10\u001b[0m forex_data\u001b[38;5;241m.\u001b[39mdropna(axis\u001b[38;5;241m=\u001b[39m\u001b[38;5;241m1\u001b[39m)\n",
      "File \u001b[0;32m~/Library/Python/3.9/lib/python/site-packages/pandas/core/frame.py:4102\u001b[0m, in \u001b[0;36mDataFrame.__getitem__\u001b[0;34m(self, key)\u001b[0m\n\u001b[1;32m   4100\u001b[0m \u001b[38;5;28;01mif\u001b[39;00m \u001b[38;5;28mself\u001b[39m\u001b[38;5;241m.\u001b[39mcolumns\u001b[38;5;241m.\u001b[39mnlevels \u001b[38;5;241m>\u001b[39m \u001b[38;5;241m1\u001b[39m:\n\u001b[1;32m   4101\u001b[0m     \u001b[38;5;28;01mreturn\u001b[39;00m \u001b[38;5;28mself\u001b[39m\u001b[38;5;241m.\u001b[39m_getitem_multilevel(key)\n\u001b[0;32m-> 4102\u001b[0m indexer \u001b[38;5;241m=\u001b[39m \u001b[38;5;28;43mself\u001b[39;49m\u001b[38;5;241;43m.\u001b[39;49m\u001b[43mcolumns\u001b[49m\u001b[38;5;241;43m.\u001b[39;49m\u001b[43mget_loc\u001b[49m\u001b[43m(\u001b[49m\u001b[43mkey\u001b[49m\u001b[43m)\u001b[49m\n\u001b[1;32m   4103\u001b[0m \u001b[38;5;28;01mif\u001b[39;00m is_integer(indexer):\n\u001b[1;32m   4104\u001b[0m     indexer \u001b[38;5;241m=\u001b[39m [indexer]\n",
      "File \u001b[0;32m~/Library/Python/3.9/lib/python/site-packages/pandas/core/indexes/base.py:3812\u001b[0m, in \u001b[0;36mIndex.get_loc\u001b[0;34m(self, key)\u001b[0m\n\u001b[1;32m   3807\u001b[0m     \u001b[38;5;28;01mif\u001b[39;00m \u001b[38;5;28misinstance\u001b[39m(casted_key, \u001b[38;5;28mslice\u001b[39m) \u001b[38;5;129;01mor\u001b[39;00m (\n\u001b[1;32m   3808\u001b[0m         \u001b[38;5;28misinstance\u001b[39m(casted_key, abc\u001b[38;5;241m.\u001b[39mIterable)\n\u001b[1;32m   3809\u001b[0m         \u001b[38;5;129;01mand\u001b[39;00m \u001b[38;5;28many\u001b[39m(\u001b[38;5;28misinstance\u001b[39m(x, \u001b[38;5;28mslice\u001b[39m) \u001b[38;5;28;01mfor\u001b[39;00m x \u001b[38;5;129;01min\u001b[39;00m casted_key)\n\u001b[1;32m   3810\u001b[0m     ):\n\u001b[1;32m   3811\u001b[0m         \u001b[38;5;28;01mraise\u001b[39;00m InvalidIndexError(key)\n\u001b[0;32m-> 3812\u001b[0m     \u001b[38;5;28;01mraise\u001b[39;00m \u001b[38;5;167;01mKeyError\u001b[39;00m(key) \u001b[38;5;28;01mfrom\u001b[39;00m\u001b[38;5;250m \u001b[39m\u001b[38;5;21;01merr\u001b[39;00m\n\u001b[1;32m   3813\u001b[0m \u001b[38;5;28;01mexcept\u001b[39;00m \u001b[38;5;167;01mTypeError\u001b[39;00m:\n\u001b[1;32m   3814\u001b[0m     \u001b[38;5;66;03m# If we have a listlike key, _check_indexing_error will raise\u001b[39;00m\n\u001b[1;32m   3815\u001b[0m     \u001b[38;5;66;03m#  InvalidIndexError. Otherwise we fall through and re-raise\u001b[39;00m\n\u001b[1;32m   3816\u001b[0m     \u001b[38;5;66;03m#  the TypeError.\u001b[39;00m\n\u001b[1;32m   3817\u001b[0m     \u001b[38;5;28mself\u001b[39m\u001b[38;5;241m.\u001b[39m_check_indexing_error(key)\n",
      "\u001b[0;31mKeyError\u001b[0m: 'rsi_14'"
     ]
    }
   ],
   "source": [
    "\n",
    "forex_data['rsi'] = ta.momentum.RSIIndicator(close=forex_data['Close']).rsi()\n",
    "forex_data['ema_20'] = ta.trend.EMAIndicator(forex_data['Close'], window=20).ema_indicator()\n",
    "forex_data['ema_9'] = ta.trend.EMAIndicator(close=forex_data['Close'], window=9).ema_indicator()\n",
    "forex_data['atr'] = ta.volatility.AverageTrueRange(forex_data['High'], forex_data['Low'], forex_data['Close']).average_true_range()\n",
    "forex_data['buy_signal'] = np.random.choice([0, 1], size=len(forex_data), p=[0.9, 0.1]) \n",
    "forex_data['sell_signal'] = np.random.choice([0, 1], size=len(forex_data), p=[0.9, 0.1])\n",
    "forex_data['rsi_ema_buy_signal'] = (forex_data['rsi'] > 50) & (forex_data['close'] > forex_data['ema_20'])\n",
    "forex_data['rsi_ema_sell_signal'] = (forex_data['rsi'] < 50) & (forex_data['close'] < forex_data['ema_20'])\n",
    "\n",
    "forex_data.dropna(axis=1)\n",
    "\n",
    "\n",
    "\n",
    "#one way to consider prediction to buy/sell\n",
    "# forex_data['signal'] = 0\n",
    "# forex_data.loc[forex_data['ema_9'] > forex_data['ema_21'], 'signal'] = 1  # Buy\n",
    "# forex_data.loc[forex_data['ema_9'] < forex_data['ema_21'], 'signal'] = -1 # \n"
   ]
  },
  {
   "cell_type": "code",
   "execution_count": null,
   "id": "574d1301",
   "metadata": {},
   "outputs": [],
   "source": [
    "\n"
   ]
  },
  {
   "cell_type": "code",
   "execution_count": 7,
   "id": "d96d6428",
   "metadata": {},
   "outputs": [],
   "source": [
    "for i in range(1, 4):\n",
    "    forex_data[f'return_lag_{i}'] = forex_data['Close'].pct_change(i)\n",
    "# forex_data['hour'] = forex_data['Time'].dt.hour\n",
    "# forex_data['day_of_week'] = forex_data.index.dayofweek\n",
    "\n",
    "# forex_data.dropna(inplace=True)\n"
   ]
  },
  {
   "cell_type": "code",
   "execution_count": 8,
   "id": "76a9c8ee",
   "metadata": {},
   "outputs": [
    {
     "data": {
      "text/plain": [
       "Index(['Time', 'Open', 'High', 'Low', 'Close', 'Volume', 'rsi', 'ema_20',\n",
       "       'ema_9', 'atr', 'buy_signal', 'sell_signal', 'return_lag_1',\n",
       "       'return_lag_2', 'return_lag_3'],\n",
       "      dtype='object')"
      ]
     },
     "execution_count": 8,
     "metadata": {},
     "output_type": "execute_result"
    }
   ],
   "source": [
    "forex_data.columns"
   ]
  }
 ],
 "metadata": {
  "kernelspec": {
   "display_name": "Python 3",
   "language": "python",
   "name": "python3"
  },
  "language_info": {
   "codemirror_mode": {
    "name": "ipython",
    "version": 3
   },
   "file_extension": ".py",
   "mimetype": "text/x-python",
   "name": "python",
   "nbconvert_exporter": "python",
   "pygments_lexer": "ipython3",
   "version": "3.9.6"
  }
 },
 "nbformat": 4,
 "nbformat_minor": 5
}
