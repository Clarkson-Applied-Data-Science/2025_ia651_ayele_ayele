{
 "cells": [
  {
   "cell_type": "code",
   "execution_count": 3,
   "id": "5fbebcf8",
   "metadata": {},
   "outputs": [],
   "source": [
    "import pandas as pd\n",
    "import numpy as np\n",
    "import ta "
   ]
  },
  {
   "cell_type": "code",
   "execution_count": 4,
   "id": "598adf8c",
   "metadata": {},
   "outputs": [],
   "source": [
    "dataSet = pd.read_csv('EURUSD_M30-1.csv')"
   ]
  },
  {
   "cell_type": "code",
   "execution_count": 5,
   "id": "b55b650f",
   "metadata": {},
   "outputs": [],
   "source": [
    "dataSet = dataSet.sort_values(by ='Time', ascending=False)\n",
    "dataSet = dataSet.dropna()\n",
    "time_col = dataSet['Time']\n",
    "dataSet.columns = dataSet.columns.str.strip().str.capitalize()\n",
    "dataSet['Time'] = time_col"
   ]
  },
  {
   "cell_type": "code",
   "execution_count": 6,
   "id": "2584eb81",
   "metadata": {},
   "outputs": [],
   "source": [
    "dataSet['rsi'] = ta.momentum.RSIIndicator(close=dataSet['Close']).rsi()\n",
    "dataSet['ema_20'] = ta.trend.EMAIndicator(dataSet['Close'], window=20).ema_indicator()\n",
    "dataSet['atr'] = ta.volatility.AverageTrueRange(dataSet['High'], dataSet['Low'], dataSet['Close']).average_true_range()\n"
   ]
  },
  {
   "cell_type": "code",
   "execution_count": 12,
   "id": "d96d6428",
   "metadata": {},
   "outputs": [
    {
     "data": {
      "text/plain": [
       "Time             object\n",
       "Open            float64\n",
       "High            float64\n",
       "Low             float64\n",
       "Close           float64\n",
       "Volume            int64\n",
       "rsi             float64\n",
       "ema_20          float64\n",
       "atr             float64\n",
       "return_lag_1    float64\n",
       "return_lag_2    float64\n",
       "return_lag_3    float64\n",
       "dtype: object"
      ]
     },
     "execution_count": 12,
     "metadata": {},
     "output_type": "execute_result"
    }
   ],
   "source": [
    "for i in range(1, 4):\n",
    "    dataSet[f'return_lag_{i}'] = dataSet['Close'].pct_change(i)\n",
    "# dataSet['hour'] = dataSet['Time'].dt.hour\n",
    "# dataSet['day_of_week'] = dataSet.index.dayofweek\n",
    "\n",
    "# dataSet.dropna(inplace=True)\n",
    "dataSet.dtypes"
   ]
  },
  {
   "cell_type": "code",
   "execution_count": null,
   "id": "76a9c8ee",
   "metadata": {},
   "outputs": [
    {
     "data": {
      "text/plain": [
       "Index(['Open', 'High', 'Low', 'Close', 'Volume', 'rsi', 'ema_20', 'atr'], dtype='object')"
      ]
     },
     "execution_count": 11,
     "metadata": {},
     "output_type": "execute_result"
    }
   ],
   "source": [
    "dataSet.columns"
   ]
  }
 ],
 "metadata": {
  "kernelspec": {
   "display_name": "global_env",
   "language": "python",
   "name": "python3"
  },
  "language_info": {
   "codemirror_mode": {
    "name": "ipython",
    "version": 3
   },
   "file_extension": ".py",
   "mimetype": "text/x-python",
   "name": "python",
   "nbconvert_exporter": "python",
   "pygments_lexer": "ipython3",
   "version": "3.13.1"
  }
 },
 "nbformat": 4,
 "nbformat_minor": 5
}
